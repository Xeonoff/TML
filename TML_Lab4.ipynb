{
  "nbformat": 4,
  "nbformat_minor": 0,
  "metadata": {
    "colab": {
      "provenance": []
    },
    "kernelspec": {
      "name": "python3",
      "display_name": "Python 3"
    },
    "language_info": {
      "name": "python"
    }
  },
  "cells": [
    {
      "cell_type": "markdown",
      "source": [
        "##Обработка Датасета"
      ],
      "metadata": {
        "id": "NeKvIOhQ3u-P"
      }
    },
    {
      "cell_type": "code",
      "execution_count": null,
      "metadata": {
        "id": "50PEoCXnxldI",
        "colab": {
          "base_uri": "https://localhost:8080/"
        },
        "outputId": "438287dd-7cad-4f38-c90c-24847b8bd3ee"
      },
      "outputs": [
        {
          "output_type": "stream",
          "name": "stdout",
          "text": [
            "              Movie Name Release Year  Duration  IMDB Rating  Metascore  \\\n",
            "0          The Godfather         1972       175          9.2      100.0   \n",
            "1  The Godfather Part II         1974       202          9.0       90.0   \n",
            "\n",
            "     Votes         Genre              Director           Cast     Gross  \n",
            "0  2002655  Crime, Drama  Francis Ford Coppola  Marlon Brando  134.97e6  \n",
            "1  1358608  Crime, Drama  Francis Ford Coppola      Al Pacino   57.30e6  \n"
          ]
        }
      ],
      "source": [
        "import pandas as pd\n",
        "import matplotlib.pyplot as plt\n",
        "import seaborn as sns\n",
        "import numpy as np\n",
        "from sklearn.model_selection import train_test_split\n",
        "from sklearn.linear_model import LinearRegression\n",
        "from sklearn.svm import SVR\n",
        "from sklearn.tree import DecisionTreeRegressor\n",
        "from sklearn.metrics import mean_squared_error\n",
        "\n",
        "try:\n",
        "    df = pd.read_csv(\"imdb_top_2000_movies.csv\", sep=\",\", encoding='utf-8')\n",
        "except UnicodeDecodeError:\n",
        "    df = pd.read_csv(\"imdb_top_2000_movies.csv\", sep=\",\", encoding='latin1')\n",
        "for column in df.columns:\n",
        "    try:\n",
        "      df[column] = df[column].str.replace('$', '')\n",
        "    except:\n",
        "      continue\n",
        "df['Gross'] = df['Gross'].str.replace('M', 'e6')\n",
        "df['Votes'] = df['Votes'].str.replace(',', '')\n",
        "print(df.head(2))"
      ]
    },
    {
      "cell_type": "markdown",
      "source": [
        "##Кодирование категориальных признаков"
      ],
      "metadata": {
        "id": "kultKqC430gk"
      }
    },
    {
      "cell_type": "code",
      "source": [
        "df = df.drop('Movie Name', axis=1)\n",
        "df = df.drop('Release Year', axis=1)\n",
        "df = pd.get_dummies(df, columns=['Genre', 'Director', 'Cast'])\n",
        "bool_columns = df.select_dtypes(include='bool').columns\n",
        "\n",
        "# Преобразуем эти столбцы в int\n",
        "df[bool_columns] = df[bool_columns].astype(int)\n",
        "print(df.isnull().sum())\n",
        "\n",
        "# Пример удаления строк с отсутствующими значениями (можно заменить одной из стратегий ниже)\n",
        "# df.dropna(inplace=True)\n",
        "\n",
        "# или заполнения отсутствующих значений, например, медианным значением для числовых столбцов\n",
        "# и самым частым значением для категориальных\n",
        "for column in df.columns:\n",
        "    if df[column].dtype == np.number:\n",
        "        df[column].fillna(df[column].median(), inplace=True)\n",
        "    else:\n",
        "        df[column].fillna(df[column].mode()[0], inplace=True)"
      ],
      "metadata": {
        "colab": {
          "base_uri": "https://localhost:8080/"
        },
        "id": "MwNBK-Yx3s9D",
        "outputId": "44abdbfc-00fb-4c5c-a588-94f6627d9dfe"
      },
      "execution_count": null,
      "outputs": [
        {
          "output_type": "stream",
          "name": "stdout",
          "text": [
            "Duration                   0\n",
            "IMDB Rating                0\n",
            "Metascore                 81\n",
            "Votes                      0\n",
            "Gross                     97\n",
            "                          ..\n",
            "Cast_Zach Braff            0\n",
            "Cast_Zach Galifianakis     0\n",
            "Cast_Zachary Gordon        0\n",
            "Cast_Ziyi Zhang            0\n",
            "Cast_Zooey Deschanel       0\n",
            "Length: 2106, dtype: int64\n"
          ]
        },
        {
          "output_type": "stream",
          "name": "stderr",
          "text": [
            "<ipython-input-69-4160fbf0f40d>:16: DeprecationWarning: Converting `np.inexact` or `np.floating` to a dtype is deprecated. The current result is `float64` which is not strictly correct.\n",
            "  if df[column].dtype == np.number:\n",
            "<ipython-input-69-4160fbf0f40d>:16: DeprecationWarning: Converting `np.inexact` or `np.floating` to a dtype is deprecated. The current result is `float64` which is not strictly correct.\n",
            "  if df[column].dtype == np.number:\n",
            "<ipython-input-69-4160fbf0f40d>:16: DeprecationWarning: Converting `np.inexact` or `np.floating` to a dtype is deprecated. The current result is `float64` which is not strictly correct.\n",
            "  if df[column].dtype == np.number:\n"
          ]
        }
      ]
    },
    {
      "cell_type": "code",
      "source": [
        "print(df.head(2))"
      ],
      "metadata": {
        "colab": {
          "base_uri": "https://localhost:8080/"
        },
        "id": "0lh_gkJL4b4S",
        "outputId": "7e38429b-a71f-4d66-ef63-84339f0eb328"
      },
      "execution_count": null,
      "outputs": [
        {
          "output_type": "stream",
          "name": "stdout",
          "text": [
            "   Duration  IMDB Rating  Metascore    Votes     Gross  \\\n",
            "0       175          9.2      100.0  2002655  134.97e6   \n",
            "1       202          9.0       90.0  1358608   57.30e6   \n",
            "\n",
            "   Genre_Action, Adventure  Genre_Action, Adventure, Biography  \\\n",
            "0                        0                                   0   \n",
            "1                        0                                   0   \n",
            "\n",
            "   Genre_Action, Adventure, Comedy  Genre_Action, Adventure, Crime  \\\n",
            "0                                0                               0   \n",
            "1                                0                               0   \n",
            "\n",
            "   Genre_Action, Adventure, Drama  ...  Cast_Yul Brynner  Cast_Yvan Attal  \\\n",
            "0                               0  ...                 0                0   \n",
            "1                               0  ...                 0                0   \n",
            "\n",
            "   Cast_Yves Montand  Cast_Yôji Matsuda  Cast_Zac Efron  Cast_Zach Braff  \\\n",
            "0                  0                  0               0                0   \n",
            "1                  0                  0               0                0   \n",
            "\n",
            "   Cast_Zach Galifianakis  Cast_Zachary Gordon  Cast_Ziyi Zhang  \\\n",
            "0                       0                    0                0   \n",
            "1                       0                    0                0   \n",
            "\n",
            "   Cast_Zooey Deschanel  \n",
            "0                     0  \n",
            "1                     0  \n",
            "\n",
            "[2 rows x 2106 columns]\n"
          ]
        }
      ]
    },
    {
      "cell_type": "code",
      "source": [
        "X = df.drop('IMDB Rating', axis=1)\n",
        "y = df['IMDB Rating']\n",
        "\n",
        "X_train, X_test, y_train, y_test = train_test_split(X, y, test_size=0.2, random_state=42)\n",
        "\n",
        "linear_reg = LinearRegression()\n",
        "linear_reg.fit(X_train, y_train)\n",
        "y_pred = linear_reg.predict(X_test)\n",
        "\n",
        "print(\"RMSE линейной регрессии:\", mean_squared_error(y_test, y_pred, squared=False))"
      ],
      "metadata": {
        "colab": {
          "base_uri": "https://localhost:8080/"
        },
        "id": "eyDKz9mfzm4N",
        "outputId": "fa899324-755b-4553-9fed-dedce9a055f1"
      },
      "execution_count": null,
      "outputs": [
        {
          "output_type": "stream",
          "name": "stdout",
          "text": [
            "RMSE линейной регрессии: 0.9021279403792877\n"
          ]
        }
      ]
    },
    {
      "cell_type": "code",
      "source": [
        "svm_reg = SVR()\n",
        "svm_reg.fit(X_train, y_train)\n",
        "#y_pred = svm_reg.predict(X_test)\n",
        "\n",
        "#print(\"RMSE SVM:\", mean_squared_error(y_test, y_pred, squared=False))"
      ],
      "metadata": {
        "colab": {
          "base_uri": "https://localhost:8080/",
          "height": 74
        },
        "id": "3hs8cFIf_iR0",
        "outputId": "ba9821e6-c418-44a5-8a73-492296d4ccf8"
      },
      "execution_count": null,
      "outputs": [
        {
          "output_type": "execute_result",
          "data": {
            "text/plain": [
              "SVR()"
            ],
            "text/html": [
              "<style>#sk-container-id-5 {color: black;background-color: white;}#sk-container-id-5 pre{padding: 0;}#sk-container-id-5 div.sk-toggleable {background-color: white;}#sk-container-id-5 label.sk-toggleable__label {cursor: pointer;display: block;width: 100%;margin-bottom: 0;padding: 0.3em;box-sizing: border-box;text-align: center;}#sk-container-id-5 label.sk-toggleable__label-arrow:before {content: \"▸\";float: left;margin-right: 0.25em;color: #696969;}#sk-container-id-5 label.sk-toggleable__label-arrow:hover:before {color: black;}#sk-container-id-5 div.sk-estimator:hover label.sk-toggleable__label-arrow:before {color: black;}#sk-container-id-5 div.sk-toggleable__content {max-height: 0;max-width: 0;overflow: hidden;text-align: left;background-color: #f0f8ff;}#sk-container-id-5 div.sk-toggleable__content pre {margin: 0.2em;color: black;border-radius: 0.25em;background-color: #f0f8ff;}#sk-container-id-5 input.sk-toggleable__control:checked~div.sk-toggleable__content {max-height: 200px;max-width: 100%;overflow: auto;}#sk-container-id-5 input.sk-toggleable__control:checked~label.sk-toggleable__label-arrow:before {content: \"▾\";}#sk-container-id-5 div.sk-estimator input.sk-toggleable__control:checked~label.sk-toggleable__label {background-color: #d4ebff;}#sk-container-id-5 div.sk-label input.sk-toggleable__control:checked~label.sk-toggleable__label {background-color: #d4ebff;}#sk-container-id-5 input.sk-hidden--visually {border: 0;clip: rect(1px 1px 1px 1px);clip: rect(1px, 1px, 1px, 1px);height: 1px;margin: -1px;overflow: hidden;padding: 0;position: absolute;width: 1px;}#sk-container-id-5 div.sk-estimator {font-family: monospace;background-color: #f0f8ff;border: 1px dotted black;border-radius: 0.25em;box-sizing: border-box;margin-bottom: 0.5em;}#sk-container-id-5 div.sk-estimator:hover {background-color: #d4ebff;}#sk-container-id-5 div.sk-parallel-item::after {content: \"\";width: 100%;border-bottom: 1px solid gray;flex-grow: 1;}#sk-container-id-5 div.sk-label:hover label.sk-toggleable__label {background-color: #d4ebff;}#sk-container-id-5 div.sk-serial::before {content: \"\";position: absolute;border-left: 1px solid gray;box-sizing: border-box;top: 0;bottom: 0;left: 50%;z-index: 0;}#sk-container-id-5 div.sk-serial {display: flex;flex-direction: column;align-items: center;background-color: white;padding-right: 0.2em;padding-left: 0.2em;position: relative;}#sk-container-id-5 div.sk-item {position: relative;z-index: 1;}#sk-container-id-5 div.sk-parallel {display: flex;align-items: stretch;justify-content: center;background-color: white;position: relative;}#sk-container-id-5 div.sk-item::before, #sk-container-id-5 div.sk-parallel-item::before {content: \"\";position: absolute;border-left: 1px solid gray;box-sizing: border-box;top: 0;bottom: 0;left: 50%;z-index: -1;}#sk-container-id-5 div.sk-parallel-item {display: flex;flex-direction: column;z-index: 1;position: relative;background-color: white;}#sk-container-id-5 div.sk-parallel-item:first-child::after {align-self: flex-end;width: 50%;}#sk-container-id-5 div.sk-parallel-item:last-child::after {align-self: flex-start;width: 50%;}#sk-container-id-5 div.sk-parallel-item:only-child::after {width: 0;}#sk-container-id-5 div.sk-dashed-wrapped {border: 1px dashed gray;margin: 0 0.4em 0.5em 0.4em;box-sizing: border-box;padding-bottom: 0.4em;background-color: white;}#sk-container-id-5 div.sk-label label {font-family: monospace;font-weight: bold;display: inline-block;line-height: 1.2em;}#sk-container-id-5 div.sk-label-container {text-align: center;}#sk-container-id-5 div.sk-container {/* jupyter's `normalize.less` sets `[hidden] { display: none; }` but bootstrap.min.css set `[hidden] { display: none !important; }` so we also need the `!important` here to be able to override the default hidden behavior on the sphinx rendered scikit-learn.org. See: https://github.com/scikit-learn/scikit-learn/issues/21755 */display: inline-block !important;position: relative;}#sk-container-id-5 div.sk-text-repr-fallback {display: none;}</style><div id=\"sk-container-id-5\" class=\"sk-top-container\"><div class=\"sk-text-repr-fallback\"><pre>SVR()</pre><b>In a Jupyter environment, please rerun this cell to show the HTML representation or trust the notebook. <br />On GitHub, the HTML representation is unable to render, please try loading this page with nbviewer.org.</b></div><div class=\"sk-container\" hidden><div class=\"sk-item\"><div class=\"sk-estimator sk-toggleable\"><input class=\"sk-toggleable__control sk-hidden--visually\" id=\"sk-estimator-id-5\" type=\"checkbox\" checked><label for=\"sk-estimator-id-5\" class=\"sk-toggleable__label sk-toggleable__label-arrow\">SVR</label><div class=\"sk-toggleable__content\"><pre>SVR()</pre></div></div></div></div></div>"
            ]
          },
          "metadata": {},
          "execution_count": 78
        }
      ]
    },
    {
      "cell_type": "code",
      "source": [
        "from sklearn.tree import DecisionTreeRegressor\n",
        "\n",
        "tree_reg = DecisionTreeRegressor()\n",
        "tree_reg.fit(X_train, y_train)\n",
        "#y_pred = tree_reg.predict(X_test)\n",
        "\n",
        "#print(\"RMSE дерева решений:\", mean_squared_error(y_test, y_pred, squared=False))"
      ],
      "metadata": {
        "colab": {
          "base_uri": "https://localhost:8080/",
          "height": 74
        },
        "id": "vFj-3VHf_k7P",
        "outputId": "dfd3a8b4-efb4-4894-9728-11b8bb418208"
      },
      "execution_count": null,
      "outputs": [
        {
          "output_type": "execute_result",
          "data": {
            "text/plain": [
              "DecisionTreeRegressor()"
            ],
            "text/html": [
              "<style>#sk-container-id-6 {color: black;background-color: white;}#sk-container-id-6 pre{padding: 0;}#sk-container-id-6 div.sk-toggleable {background-color: white;}#sk-container-id-6 label.sk-toggleable__label {cursor: pointer;display: block;width: 100%;margin-bottom: 0;padding: 0.3em;box-sizing: border-box;text-align: center;}#sk-container-id-6 label.sk-toggleable__label-arrow:before {content: \"▸\";float: left;margin-right: 0.25em;color: #696969;}#sk-container-id-6 label.sk-toggleable__label-arrow:hover:before {color: black;}#sk-container-id-6 div.sk-estimator:hover label.sk-toggleable__label-arrow:before {color: black;}#sk-container-id-6 div.sk-toggleable__content {max-height: 0;max-width: 0;overflow: hidden;text-align: left;background-color: #f0f8ff;}#sk-container-id-6 div.sk-toggleable__content pre {margin: 0.2em;color: black;border-radius: 0.25em;background-color: #f0f8ff;}#sk-container-id-6 input.sk-toggleable__control:checked~div.sk-toggleable__content {max-height: 200px;max-width: 100%;overflow: auto;}#sk-container-id-6 input.sk-toggleable__control:checked~label.sk-toggleable__label-arrow:before {content: \"▾\";}#sk-container-id-6 div.sk-estimator input.sk-toggleable__control:checked~label.sk-toggleable__label {background-color: #d4ebff;}#sk-container-id-6 div.sk-label input.sk-toggleable__control:checked~label.sk-toggleable__label {background-color: #d4ebff;}#sk-container-id-6 input.sk-hidden--visually {border: 0;clip: rect(1px 1px 1px 1px);clip: rect(1px, 1px, 1px, 1px);height: 1px;margin: -1px;overflow: hidden;padding: 0;position: absolute;width: 1px;}#sk-container-id-6 div.sk-estimator {font-family: monospace;background-color: #f0f8ff;border: 1px dotted black;border-radius: 0.25em;box-sizing: border-box;margin-bottom: 0.5em;}#sk-container-id-6 div.sk-estimator:hover {background-color: #d4ebff;}#sk-container-id-6 div.sk-parallel-item::after {content: \"\";width: 100%;border-bottom: 1px solid gray;flex-grow: 1;}#sk-container-id-6 div.sk-label:hover label.sk-toggleable__label {background-color: #d4ebff;}#sk-container-id-6 div.sk-serial::before {content: \"\";position: absolute;border-left: 1px solid gray;box-sizing: border-box;top: 0;bottom: 0;left: 50%;z-index: 0;}#sk-container-id-6 div.sk-serial {display: flex;flex-direction: column;align-items: center;background-color: white;padding-right: 0.2em;padding-left: 0.2em;position: relative;}#sk-container-id-6 div.sk-item {position: relative;z-index: 1;}#sk-container-id-6 div.sk-parallel {display: flex;align-items: stretch;justify-content: center;background-color: white;position: relative;}#sk-container-id-6 div.sk-item::before, #sk-container-id-6 div.sk-parallel-item::before {content: \"\";position: absolute;border-left: 1px solid gray;box-sizing: border-box;top: 0;bottom: 0;left: 50%;z-index: -1;}#sk-container-id-6 div.sk-parallel-item {display: flex;flex-direction: column;z-index: 1;position: relative;background-color: white;}#sk-container-id-6 div.sk-parallel-item:first-child::after {align-self: flex-end;width: 50%;}#sk-container-id-6 div.sk-parallel-item:last-child::after {align-self: flex-start;width: 50%;}#sk-container-id-6 div.sk-parallel-item:only-child::after {width: 0;}#sk-container-id-6 div.sk-dashed-wrapped {border: 1px dashed gray;margin: 0 0.4em 0.5em 0.4em;box-sizing: border-box;padding-bottom: 0.4em;background-color: white;}#sk-container-id-6 div.sk-label label {font-family: monospace;font-weight: bold;display: inline-block;line-height: 1.2em;}#sk-container-id-6 div.sk-label-container {text-align: center;}#sk-container-id-6 div.sk-container {/* jupyter's `normalize.less` sets `[hidden] { display: none; }` but bootstrap.min.css set `[hidden] { display: none !important; }` so we also need the `!important` here to be able to override the default hidden behavior on the sphinx rendered scikit-learn.org. See: https://github.com/scikit-learn/scikit-learn/issues/21755 */display: inline-block !important;position: relative;}#sk-container-id-6 div.sk-text-repr-fallback {display: none;}</style><div id=\"sk-container-id-6\" class=\"sk-top-container\"><div class=\"sk-text-repr-fallback\"><pre>DecisionTreeRegressor()</pre><b>In a Jupyter environment, please rerun this cell to show the HTML representation or trust the notebook. <br />On GitHub, the HTML representation is unable to render, please try loading this page with nbviewer.org.</b></div><div class=\"sk-container\" hidden><div class=\"sk-item\"><div class=\"sk-estimator sk-toggleable\"><input class=\"sk-toggleable__control sk-hidden--visually\" id=\"sk-estimator-id-6\" type=\"checkbox\" checked><label for=\"sk-estimator-id-6\" class=\"sk-toggleable__label sk-toggleable__label-arrow\">DecisionTreeRegressor</label><div class=\"sk-toggleable__content\"><pre>DecisionTreeRegressor()</pre></div></div></div></div></div>"
            ]
          },
          "metadata": {},
          "execution_count": 79
        }
      ]
    },
    {
      "cell_type": "markdown",
      "source": [
        "##Оценка Моделей"
      ],
      "metadata": {
        "id": "TR7dfsseAeso"
      }
    },
    {
      "cell_type": "code",
      "source": [
        "(y_test.values - y_pred.values)**2"
      ],
      "metadata": {
        "colab": {
          "base_uri": "https://localhost:8080/"
        },
        "id": "ryF54rhtHde7",
        "outputId": "42313b4a-0212-44f9-f4ef-7d9ec4622161"
      },
      "execution_count": null,
      "outputs": [
        {
          "output_type": "execute_result",
          "data": {
            "text/plain": [
              "array([ 1.10441956e-01,  1.52050418e+00,  5.86622152e-01,  8.08980416e-02,\n",
              "        5.04178059e-01, -1.72728600e+00, -1.19849620e-01, -2.33630845e+00,\n",
              "        6.19269547e-01, -3.86832378e-01, -7.33687826e-02, -2.71679457e-01,\n",
              "        1.18106035e-01,  1.85160583e-01,  6.04929346e-01, -1.29937637e+00,\n",
              "       -1.27132681e-01, -1.09562337e+00, -9.21548443e-02,  3.93608171e-01,\n",
              "        3.99970357e-01, -4.42117198e-01, -1.26287483e+00, -3.91616593e-01,\n",
              "        7.21479545e-01, -1.98114844e-01,  1.76859784e+00,  2.40983329e-01,\n",
              "       -6.80953984e-01, -1.74024867e-01,  4.79065002e-02,  4.46990264e-01,\n",
              "       -1.02877691e-02,  1.26939412e-01, -1.62299281e+00,  2.67960641e+00,\n",
              "       -7.69350826e-01,  1.73377363e+00,  6.95675649e-01, -3.86816306e-02,\n",
              "        1.15984517e-01, -6.76533862e-01,  2.68552829e-01,  3.60861476e-01,\n",
              "        5.40649112e-01, -1.38416604e+00,  3.12190841e-01,  2.18986746e-01,\n",
              "        6.21908486e-01,  4.55824944e-01, -1.08092681e-01, -3.33165222e-01,\n",
              "        2.16063773e-01,  1.24475199e+00,  5.61320286e-01, -3.80836172e-01,\n",
              "       -5.63007877e-01, -2.41230851e-01,  4.02743014e-01,  6.41634491e-01,\n",
              "       -4.15569789e-01,  4.32479851e-01,  7.85227099e-01, -4.22998275e-01,\n",
              "       -2.59427269e-01, -4.72257721e-01, -3.75510773e-01, -1.51072718e-01,\n",
              "        5.60085540e-01,  1.14330363e+00, -1.12677224e+00,  1.69020526e-01,\n",
              "        1.54559489e-01, -1.84792730e-01,  6.26454846e-01, -1.66488779e-01,\n",
              "       -6.47711885e-01,  1.86583840e-01,  3.70363855e-01,  5.24861485e-01,\n",
              "        2.82553614e-01, -1.48679453e-01, -3.77968824e-01,  2.16018598e-01,\n",
              "        8.07476278e-01, -6.36329277e-01, -7.48864631e-01,  1.61538286e-01,\n",
              "        8.39324283e-01,  5.23187725e-01,  5.59836427e-01, -4.21613956e-01,\n",
              "        1.19627146e+00, -3.19322561e-01,  1.15663509e+00,  4.48709586e-01,\n",
              "        5.59926047e-01, -2.69338555e-01, -2.41016056e-01, -5.06927463e+00,\n",
              "       -9.53946189e-01, -8.03754228e-01, -1.43756251e-01, -7.09796488e-01,\n",
              "       -2.60527022e-01,  6.83101900e-01, -8.58863371e-01,  6.22841439e-01,\n",
              "       -1.13456918e+00,  1.31517207e+00, -7.13458920e-01,  5.04529085e-01,\n",
              "        1.61175254e-01, -3.13814320e-01, -5.30179349e-02,  7.06975365e-01,\n",
              "        2.65310798e+00,  5.96447865e-01,  1.13294095e-01,  1.12417464e+00,\n",
              "        3.30863478e-01, -2.61646043e-01,  1.91024820e-02,  4.03118518e-01,\n",
              "       -2.04619680e-01, -5.54760032e-02,  7.97728675e-01, -8.63636832e-01,\n",
              "        7.37486388e-01,  2.98568311e-01,  5.46786235e-01, -4.90515208e-02,\n",
              "       -3.63802653e-01,  2.19166141e-01, -5.56647752e-01, -2.42791902e-01,\n",
              "       -4.28486007e-01, -8.94561186e-01, -1.61000164e+00,  1.69143912e-01,\n",
              "        8.36056315e-01,  2.15117047e-01, -5.35487189e-02,  3.25487295e-01,\n",
              "       -1.13846264e+00, -2.74559735e-02,  2.85072996e-01,  4.35717052e-01,\n",
              "        4.10484650e-01,  6.77251798e-01,  4.21343160e-01,  4.50605221e-01,\n",
              "        6.37223578e-01,  3.32975137e-01,  4.92449649e-02,  6.75013895e-01,\n",
              "        1.78629612e+00,  4.21871866e-01,  8.21983396e-01,  8.84504848e-01,\n",
              "       -1.41768441e+00,  7.85800458e-01,  6.03620304e-01,  8.45068033e-01,\n",
              "        1.36009728e+00,  1.50218920e+00, -1.37456511e+00, -6.40425476e-01,\n",
              "       -6.62277365e-01, -3.71554146e-01,  1.90818974e+00, -1.65795745e+00,\n",
              "       -1.09054276e+00,  1.09440506e-01,  9.64717100e-01, -2.86562458e-01,\n",
              "       -2.88741260e-01, -2.70550944e-01, -4.23568661e-01, -3.10452433e-02,\n",
              "        1.78078145e-01,  2.73226205e-01, -5.08529364e-01, -3.31128312e-02,\n",
              "       -7.10802259e-02,  1.66022144e+00, -2.40966469e-01, -3.92080694e-01,\n",
              "        8.47517758e-01, -4.85575728e-01,  1.74312313e-01,  4.40773691e-01,\n",
              "       -1.66218357e+00, -9.89457127e-01,  5.90132902e-01, -9.23549471e-01,\n",
              "       -6.75135761e-02,  2.60078749e-01, -1.89606440e-01,  3.47171517e-01,\n",
              "       -3.86816847e-01,  7.92955169e-01,  6.20307400e-01, -1.41672870e+00,\n",
              "        3.72272475e-01,  1.83666990e-02,  1.63620435e-02,  2.10266833e+00,\n",
              "        7.01520322e-02,  1.55037713e+00,  5.78157598e-01, -1.21940918e-01,\n",
              "        3.86178443e-01, -1.29440363e+00, -3.14058233e-01,  4.42974108e-01,\n",
              "       -1.22285963e-01,  9.18007439e-01, -7.83602899e-01, -4.94150161e-02,\n",
              "        7.72464418e-01, -2.59610317e-02,  1.34114456e+00,  3.44768364e-01,\n",
              "       -8.29335809e-01, -1.87605420e-01, -8.07567184e-01, -3.05325289e-01,\n",
              "        8.59605910e-01,  3.31292470e-01, -3.86031446e-01,  4.36526861e-01,\n",
              "        2.02893479e+00, -2.63093577e-01,  9.16693724e-01,  5.86533548e-01,\n",
              "        3.72626666e-02, -4.95136288e-01,  8.98887926e-03, -8.11932911e-02,\n",
              "       -6.27927837e-02, -2.35202330e-02,  6.09840656e-01, -2.60694620e-01,\n",
              "        6.67320168e-02,  5.38860054e-01,  3.45741404e-01, -4.31642124e-01,\n",
              "       -6.93318501e-02, -1.34822235e+00,  2.13833587e+00, -5.05305154e-01,\n",
              "       -5.88641893e-01,  5.35971160e-02, -5.23462256e-01,  4.23247071e-01,\n",
              "        2.56461083e-01, -3.23607771e+00,  1.48050729e-01,  5.25316726e-01,\n",
              "       -5.61209794e-02, -9.50294134e-01, -3.15716314e-01,  6.18012479e-01,\n",
              "        2.64171832e-01, -7.61638024e-02, -2.18821395e-01,  9.67333849e-01,\n",
              "        1.05778370e-01, -1.05951032e+00, -4.51432722e-01, -1.87248275e-01,\n",
              "        1.08765275e+00, -1.95679778e+00, -4.85556175e-01,  3.30494019e+00,\n",
              "        1.77537132e-01, -4.42030540e-01, -3.78557867e-01,  3.54271446e-01,\n",
              "       -6.75908396e-01, -2.03936575e-01,  1.60221424e+00,  2.71708325e-01,\n",
              "        4.28996997e-01,  2.38093764e-01, -2.83157340e-01,  2.17435326e-01,\n",
              "        3.27810919e-01,  3.08543381e-01,  2.99911812e-01, -1.90246199e-01,\n",
              "       -9.09981221e-01,  4.10227713e-02,  2.60050531e-01, -4.82663776e-01,\n",
              "       -6.47297445e-01, -1.28119404e+00, -1.31400819e+00,  1.76092729e-02,\n",
              "       -1.19652698e+00, -5.61883014e-01, -5.03351806e-01,  1.23411258e-01,\n",
              "       -2.38190225e-01,  4.56086008e-01,  3.24996120e-01,  6.75042075e-02,\n",
              "        5.18448095e-01, -4.40324313e-01,  6.41165610e-01, -2.66491581e-01,\n",
              "       -4.19443730e-01,  6.29025283e-01, -3.67014116e-01,  6.76696508e-01,\n",
              "        2.09072718e-01,  2.29378220e-02, -9.64102821e-01,  8.03748682e-02,\n",
              "        1.95269246e-02,  1.32730257e+00,  4.67920733e-01,  1.82461699e-01,\n",
              "        6.48337203e-01,  2.55622105e-01,  7.26316460e-01,  4.02115876e-01,\n",
              "        1.11764057e+00,  4.49479238e-03, -3.31405770e-01, -1.16009342e+00,\n",
              "        8.21523282e-01,  2.90643061e-01,  6.66564334e-01, -5.15157992e+00,\n",
              "        6.97994136e-03,  6.09001984e-01, -4.95762610e-01, -6.66250739e-01,\n",
              "        1.55962667e+00,  5.04270752e-01, -5.78103606e-01, -6.50279017e-01,\n",
              "        1.19667543e-01,  4.53891353e-03,  6.18635038e-01, -4.60262718e-01,\n",
              "       -1.83087660e+00, -2.56621511e+00,  9.57033815e-01, -1.18223417e+00,\n",
              "       -5.77864893e-01,  2.04243159e-01, -1.23849800e+00,  6.94101196e-01,\n",
              "        1.59992618e-03, -9.22009342e-01,  3.10447287e-01,  4.41347982e-01,\n",
              "       -5.37153077e-01,  8.49035170e-01, -5.13351966e-01,  9.78965749e-01,\n",
              "       -1.79533177e+00,  1.17501343e+00,  4.21488786e-01,  2.56485092e-01,\n",
              "       -5.59802264e-02,  1.34841238e-01, -1.98913029e-01, -3.62691625e-02,\n",
              "        1.36803772e+00, -4.57799412e+00, -1.45177743e-02,  4.40825497e-02,\n",
              "        9.70156151e-02,  2.86749420e-01, -6.72116430e-03,  9.42445530e-01,\n",
              "       -1.22837617e+00, -6.76591317e-02, -9.27844307e-02, -3.31267955e+00,\n",
              "        4.66349170e-01, -3.82173101e-01,  3.17253106e-01,  4.10951411e-02,\n",
              "        5.59790924e-01,  2.60307229e-01,  9.10172625e-01, -2.03608354e-01,\n",
              "       -1.09051760e-02, -6.27214885e-01,  5.68330313e-01, -3.79109254e-01,\n",
              "       -6.51219010e-01, -3.75971507e-01,  8.09110000e-01, -1.19009233e+00])"
            ]
          },
          "metadata": {},
          "execution_count": 92
        }
      ]
    },
    {
      "cell_type": "code",
      "source": [
        "from sklearn.metrics import accuracy_score, roc_auc_score\n",
        "models = [linear_reg, svm_reg, tree_reg]\n",
        "model_names = ['Линейная регрессия', 'SVM', 'Дерево решений']\n",
        "accuracy_array = []\n",
        "y_pred = pd.Series(linear_reg.predict(X_test))\n",
        "print(len(y_test))\n",
        "print(y_pred)\n",
        "accuracy = accuracy_score(y_test.values, y_pred.values)\n",
        "#for model, name in zip(models, model_names):\n",
        "    #y_pred = model.predict(X_test)\n",
        "    #accuracy = accuracy_score(y_test, y_pred)\n",
        "    #accuracy_array.append(accuracy)\n",
        "    #print(f'{name} Accuracy: {accuracy:.4f}')\n"
      ],
      "metadata": {
        "colab": {
          "base_uri": "https://localhost:8080/",
          "height": 608
        },
        "id": "CRVaikzxAdYP",
        "outputId": "0a7ccdf5-febd-4ce6-8263-f910f37ba794"
      },
      "execution_count": null,
      "outputs": [
        {
          "output_type": "stream",
          "name": "stdout",
          "text": [
            "400\n",
            "0      6.089558\n",
            "1      5.479496\n",
            "2      5.213378\n",
            "3      6.419102\n",
            "4      7.695822\n",
            "         ...   \n",
            "395    4.179109\n",
            "396    6.651219\n",
            "397    6.475972\n",
            "398    6.290890\n",
            "399    9.690092\n",
            "Length: 400, dtype: float64\n"
          ]
        },
        {
          "output_type": "error",
          "ename": "ValueError",
          "evalue": "continuous is not supported",
          "traceback": [
            "\u001b[0;31m---------------------------------------------------------------------------\u001b[0m",
            "\u001b[0;31mValueError\u001b[0m                                Traceback (most recent call last)",
            "\u001b[0;32m<ipython-input-93-2b3054962d44>\u001b[0m in \u001b[0;36m<cell line: 8>\u001b[0;34m()\u001b[0m\n\u001b[1;32m      6\u001b[0m \u001b[0mprint\u001b[0m\u001b[0;34m(\u001b[0m\u001b[0mlen\u001b[0m\u001b[0;34m(\u001b[0m\u001b[0my_test\u001b[0m\u001b[0;34m)\u001b[0m\u001b[0;34m)\u001b[0m\u001b[0;34m\u001b[0m\u001b[0;34m\u001b[0m\u001b[0m\n\u001b[1;32m      7\u001b[0m \u001b[0mprint\u001b[0m\u001b[0;34m(\u001b[0m\u001b[0my_pred\u001b[0m\u001b[0;34m)\u001b[0m\u001b[0;34m\u001b[0m\u001b[0;34m\u001b[0m\u001b[0m\n\u001b[0;32m----> 8\u001b[0;31m \u001b[0maccuracy\u001b[0m \u001b[0;34m=\u001b[0m \u001b[0maccuracy_score\u001b[0m\u001b[0;34m(\u001b[0m\u001b[0my_test\u001b[0m\u001b[0;34m.\u001b[0m\u001b[0mvalues\u001b[0m\u001b[0;34m,\u001b[0m \u001b[0my_pred\u001b[0m\u001b[0;34m.\u001b[0m\u001b[0mvalues\u001b[0m\u001b[0;34m)\u001b[0m\u001b[0;34m\u001b[0m\u001b[0;34m\u001b[0m\u001b[0m\n\u001b[0m\u001b[1;32m      9\u001b[0m \u001b[0;31m#for model, name in zip(models, model_names):\u001b[0m\u001b[0;34m\u001b[0m\u001b[0;34m\u001b[0m\u001b[0m\n\u001b[1;32m     10\u001b[0m     \u001b[0;31m#y_pred = model.predict(X_test)\u001b[0m\u001b[0;34m\u001b[0m\u001b[0;34m\u001b[0m\u001b[0m\n",
            "\u001b[0;32m/usr/local/lib/python3.10/dist-packages/sklearn/utils/_param_validation.py\u001b[0m in \u001b[0;36mwrapper\u001b[0;34m(*args, **kwargs)\u001b[0m\n\u001b[1;32m    190\u001b[0m \u001b[0;34m\u001b[0m\u001b[0m\n\u001b[1;32m    191\u001b[0m             \u001b[0;32mtry\u001b[0m\u001b[0;34m:\u001b[0m\u001b[0;34m\u001b[0m\u001b[0;34m\u001b[0m\u001b[0m\n\u001b[0;32m--> 192\u001b[0;31m                 \u001b[0;32mreturn\u001b[0m \u001b[0mfunc\u001b[0m\u001b[0;34m(\u001b[0m\u001b[0;34m*\u001b[0m\u001b[0margs\u001b[0m\u001b[0;34m,\u001b[0m \u001b[0;34m**\u001b[0m\u001b[0mkwargs\u001b[0m\u001b[0;34m)\u001b[0m\u001b[0;34m\u001b[0m\u001b[0;34m\u001b[0m\u001b[0m\n\u001b[0m\u001b[1;32m    193\u001b[0m             \u001b[0;32mexcept\u001b[0m \u001b[0mInvalidParameterError\u001b[0m \u001b[0;32mas\u001b[0m \u001b[0me\u001b[0m\u001b[0;34m:\u001b[0m\u001b[0;34m\u001b[0m\u001b[0;34m\u001b[0m\u001b[0m\n\u001b[1;32m    194\u001b[0m                 \u001b[0;31m# When the function is just a wrapper around an estimator, we allow\u001b[0m\u001b[0;34m\u001b[0m\u001b[0;34m\u001b[0m\u001b[0m\n",
            "\u001b[0;32m/usr/local/lib/python3.10/dist-packages/sklearn/metrics/_classification.py\u001b[0m in \u001b[0;36maccuracy_score\u001b[0;34m(y_true, y_pred, normalize, sample_weight)\u001b[0m\n\u001b[1;32m    219\u001b[0m \u001b[0;34m\u001b[0m\u001b[0m\n\u001b[1;32m    220\u001b[0m     \u001b[0;31m# Compute accuracy for each possible representation\u001b[0m\u001b[0;34m\u001b[0m\u001b[0;34m\u001b[0m\u001b[0m\n\u001b[0;32m--> 221\u001b[0;31m     \u001b[0my_type\u001b[0m\u001b[0;34m,\u001b[0m \u001b[0my_true\u001b[0m\u001b[0;34m,\u001b[0m \u001b[0my_pred\u001b[0m \u001b[0;34m=\u001b[0m \u001b[0m_check_targets\u001b[0m\u001b[0;34m(\u001b[0m\u001b[0my_true\u001b[0m\u001b[0;34m,\u001b[0m \u001b[0my_pred\u001b[0m\u001b[0;34m)\u001b[0m\u001b[0;34m\u001b[0m\u001b[0;34m\u001b[0m\u001b[0m\n\u001b[0m\u001b[1;32m    222\u001b[0m     \u001b[0mcheck_consistent_length\u001b[0m\u001b[0;34m(\u001b[0m\u001b[0my_true\u001b[0m\u001b[0;34m,\u001b[0m \u001b[0my_pred\u001b[0m\u001b[0;34m,\u001b[0m \u001b[0msample_weight\u001b[0m\u001b[0;34m)\u001b[0m\u001b[0;34m\u001b[0m\u001b[0;34m\u001b[0m\u001b[0m\n\u001b[1;32m    223\u001b[0m     \u001b[0;32mif\u001b[0m \u001b[0my_type\u001b[0m\u001b[0;34m.\u001b[0m\u001b[0mstartswith\u001b[0m\u001b[0;34m(\u001b[0m\u001b[0;34m\"multilabel\"\u001b[0m\u001b[0;34m)\u001b[0m\u001b[0;34m:\u001b[0m\u001b[0;34m\u001b[0m\u001b[0;34m\u001b[0m\u001b[0m\n",
            "\u001b[0;32m/usr/local/lib/python3.10/dist-packages/sklearn/metrics/_classification.py\u001b[0m in \u001b[0;36m_check_targets\u001b[0;34m(y_true, y_pred)\u001b[0m\n\u001b[1;32m    104\u001b[0m     \u001b[0;31m# No metrics support \"multiclass-multioutput\" format\u001b[0m\u001b[0;34m\u001b[0m\u001b[0;34m\u001b[0m\u001b[0m\n\u001b[1;32m    105\u001b[0m     \u001b[0;32mif\u001b[0m \u001b[0my_type\u001b[0m \u001b[0;32mnot\u001b[0m \u001b[0;32min\u001b[0m \u001b[0;34m[\u001b[0m\u001b[0;34m\"binary\"\u001b[0m\u001b[0;34m,\u001b[0m \u001b[0;34m\"multiclass\"\u001b[0m\u001b[0;34m,\u001b[0m \u001b[0;34m\"multilabel-indicator\"\u001b[0m\u001b[0;34m]\u001b[0m\u001b[0;34m:\u001b[0m\u001b[0;34m\u001b[0m\u001b[0;34m\u001b[0m\u001b[0m\n\u001b[0;32m--> 106\u001b[0;31m         \u001b[0;32mraise\u001b[0m \u001b[0mValueError\u001b[0m\u001b[0;34m(\u001b[0m\u001b[0;34m\"{0} is not supported\"\u001b[0m\u001b[0;34m.\u001b[0m\u001b[0mformat\u001b[0m\u001b[0;34m(\u001b[0m\u001b[0my_type\u001b[0m\u001b[0;34m)\u001b[0m\u001b[0;34m)\u001b[0m\u001b[0;34m\u001b[0m\u001b[0;34m\u001b[0m\u001b[0m\n\u001b[0m\u001b[1;32m    107\u001b[0m \u001b[0;34m\u001b[0m\u001b[0m\n\u001b[1;32m    108\u001b[0m     \u001b[0;32mif\u001b[0m \u001b[0my_type\u001b[0m \u001b[0;32min\u001b[0m \u001b[0;34m[\u001b[0m\u001b[0;34m\"binary\"\u001b[0m\u001b[0;34m,\u001b[0m \u001b[0;34m\"multiclass\"\u001b[0m\u001b[0;34m]\u001b[0m\u001b[0;34m:\u001b[0m\u001b[0;34m\u001b[0m\u001b[0;34m\u001b[0m\u001b[0m\n",
            "\u001b[0;31mValueError\u001b[0m: continuous is not supported"
          ]
        }
      ]
    }
  ]
}