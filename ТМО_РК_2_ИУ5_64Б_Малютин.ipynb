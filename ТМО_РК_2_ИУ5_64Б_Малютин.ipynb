{
  "nbformat": 4,
  "nbformat_minor": 0,
  "metadata": {
    "colab": {
      "provenance": []
    },
    "kernelspec": {
      "name": "python3",
      "display_name": "Python 3"
    },
    "language_info": {
      "name": "python"
    }
  },
  "cells": [
    {
      "cell_type": "markdown",
      "source": [
        "#Малютин Илья ИУ5-64Б РК №2 Вариант - 9\n",
        "####Задание.\n",
        "Для заданного набора данных [https://www.kaggle.com/rubenssjr/brasilian-houses-to-rent (файл houses_to_rent.csv)] постройте модели классификации или регрессии (в зависимости от конкретной задачи, рассматриваемой в наборе данных). Для построения моделей используйте методы:\n",
        "  - Линейная/логистическая регрессия\n",
        "  - Градиентный бустинг\n",
        "\n",
        "\n",
        " Оцените качество моделей на основе подходящих метрик качества (не менее двух метрик). Какие метрики качества Вы использовали и почему? Какие выводы Вы можете сделать о качестве построенных моделей? Для построения моделей необходимо выполнить требуемую предобработку данных: заполнение пропусков, кодирование категориальных признаков, и т.д."
      ],
      "metadata": {
        "id": "UpeDFkj4mjya"
      }
    },
    {
      "cell_type": "markdown",
      "source": [
        "###Загрузка данных\n"
      ],
      "metadata": {
        "id": "7htBLj6VpKsz"
      }
    },
    {
      "cell_type": "code",
      "source": [
        "import pandas as pd\n",
        "import numpy as np\n",
        "from sklearn.impute import SimpleImputer\n",
        "from sklearn.preprocessing import OneHotEncoder, StandardScaler\n",
        "from sklearn.model_selection import train_test_split\n",
        "from sklearn.linear_model import LinearRegression\n",
        "from sklearn.ensemble import GradientBoostingRegressor\n",
        "from sklearn.metrics import mean_squared_error, r2_score\n",
        "\n",
        "# Загрузка данных\n",
        "data = pd.read_csv(\"houses_to_rent.csv\")\n",
        "print(data.head())"
      ],
      "metadata": {
        "id": "Vsz5MEAgoybP",
        "colab": {
          "base_uri": "https://localhost:8080/"
        },
        "outputId": "169d446d-0853-4d20-b707-235383f298d3"
      },
      "execution_count": 6,
      "outputs": [
        {
          "output_type": "stream",
          "name": "stdout",
          "text": [
            "   Unnamed: 0  city  area  rooms  bathroom  parking spaces floor     animal  \\\n",
            "0           0     1   240      3         3               4     -      acept   \n",
            "1           1     0    64      2         1               1    10      acept   \n",
            "2           2     1   443      5         5               4     3      acept   \n",
            "3           3     1    73      2         2               1    12      acept   \n",
            "4           4     1    19      1         1               0     -  not acept   \n",
            "\n",
            "       furniture      hoa rent amount property tax fire insurance     total  \n",
            "0      furnished      R$0     R$8,000      R$1,000          R$121   R$9,121  \n",
            "1  not furnished    R$540       R$820        R$122           R$11   R$1,493  \n",
            "2      furnished  R$4,172     R$7,000      R$1,417           R$89  R$12,680  \n",
            "3  not furnished    R$700     R$1,250        R$150           R$16   R$2,116  \n",
            "4  not furnished      R$0     R$1,200         R$41           R$16   R$1,257  \n"
          ]
        }
      ]
    },
    {
      "cell_type": "markdown",
      "source": [
        "###Предобработка данных, преобразование категориальных признаков, заполнение пропусков"
      ],
      "metadata": {
        "id": "hoO37Q_rpOiz"
      }
    },
    {
      "cell_type": "code",
      "source": [
        "# Предобработка данных: удаление столбцов с большим количеством пропусков\n",
        "# Удаление лишних символов, замена запятых на точки\n",
        "data = data.dropna(thresh=len(data) * 0.5, axis=1)\n",
        "data = data.applymap(lambda x: str(x).replace('R$', '') if isinstance(x, str) else x)\n",
        "data = data.applymap(lambda x: str(x).replace(',', '.') if isinstance(x, str) else x)\n",
        "\n",
        "\n",
        "# Преобразование категориальных признаков методом one-hot кодирования\n",
        "categorical_features = data.select_dtypes(include=[\"object\"]).columns\n",
        "encoder = OneHotEncoder(handle_unknown=\"ignore\", sparse=False)\n",
        "encoded_features = encoder.fit_transform(data[categorical_features])\n",
        "\n",
        "# Заполнение пропусков числовых признаков средним значением\n",
        "numerical_features = data.select_dtypes(include=[\"number\"]).columns\n",
        "imputer = SimpleImputer(strategy=\"mean\")\n",
        "imputed_features = imputer.fit_transform(data[numerical_features])"
      ],
      "metadata": {
        "colab": {
          "base_uri": "https://localhost:8080/"
        },
        "id": "5aNN5cNvpSkw",
        "outputId": "e1e52673-5d82-4e92-ee52-d28de70c7a2b"
      },
      "execution_count": 10,
      "outputs": [
        {
          "output_type": "stream",
          "name": "stderr",
          "text": [
            "/usr/local/lib/python3.10/dist-packages/sklearn/preprocessing/_encoders.py:868: FutureWarning: `sparse` was renamed to `sparse_output` in version 1.2 and will be removed in 1.4. `sparse_output` is ignored unless you leave `sparse` to its default value.\n",
            "  warnings.warn(\n"
          ]
        }
      ]
    },
    {
      "cell_type": "markdown",
      "source": [
        "### Масштабирование числовых признаков, соединение обработанных признаков и разделение на обучающую и тестовую выборки"
      ],
      "metadata": {
        "id": "LPP9-wA8ptFt"
      }
    },
    {
      "cell_type": "code",
      "source": [
        "# Масштабирование числовых признаков\n",
        "scaler = StandardScaler()\n",
        "scaled_features = scaler.fit_transform(imputed_features)\n",
        "\n",
        "# Соединение обработанных признаков\n",
        "X = np.hstack([encoded_features, scaled_features])\n",
        "y = data[\"rent amount\"]  # Замена на целевую переменную\n",
        "\n",
        "# Разделение на обучающую и тестовую выборки\n",
        "X_train, X_test, y_train, y_test = train_test_split(X, y, test_size=0.2, random_state=42)\n"
      ],
      "metadata": {
        "id": "n8_7czjNpwGa"
      },
      "execution_count": 11,
      "outputs": []
    },
    {
      "cell_type": "markdown",
      "source": [
        "###Построение модели"
      ],
      "metadata": {
        "id": "AoBHvPlOp7wz"
      }
    },
    {
      "cell_type": "markdown",
      "source": [
        "- Линейная регрессия"
      ],
      "metadata": {
        "id": "Z3ehOQoUqFqA"
      }
    },
    {
      "cell_type": "code",
      "source": [
        "# Построение моделей\n",
        "\n",
        "# Линейная регрессия\n",
        "linear_reg = LinearRegression()\n",
        "linear_reg.fit(X_train, y_train)"
      ],
      "metadata": {
        "colab": {
          "base_uri": "https://localhost:8080/",
          "height": 75
        },
        "id": "Tize_LHRqBCO",
        "outputId": "d70bef6e-eeaf-42cd-f7dd-dc4037642864"
      },
      "execution_count": 12,
      "outputs": [
        {
          "output_type": "execute_result",
          "data": {
            "text/plain": [
              "LinearRegression()"
            ],
            "text/html": [
              "<style>#sk-container-id-1 {color: black;background-color: white;}#sk-container-id-1 pre{padding: 0;}#sk-container-id-1 div.sk-toggleable {background-color: white;}#sk-container-id-1 label.sk-toggleable__label {cursor: pointer;display: block;width: 100%;margin-bottom: 0;padding: 0.3em;box-sizing: border-box;text-align: center;}#sk-container-id-1 label.sk-toggleable__label-arrow:before {content: \"▸\";float: left;margin-right: 0.25em;color: #696969;}#sk-container-id-1 label.sk-toggleable__label-arrow:hover:before {color: black;}#sk-container-id-1 div.sk-estimator:hover label.sk-toggleable__label-arrow:before {color: black;}#sk-container-id-1 div.sk-toggleable__content {max-height: 0;max-width: 0;overflow: hidden;text-align: left;background-color: #f0f8ff;}#sk-container-id-1 div.sk-toggleable__content pre {margin: 0.2em;color: black;border-radius: 0.25em;background-color: #f0f8ff;}#sk-container-id-1 input.sk-toggleable__control:checked~div.sk-toggleable__content {max-height: 200px;max-width: 100%;overflow: auto;}#sk-container-id-1 input.sk-toggleable__control:checked~label.sk-toggleable__label-arrow:before {content: \"▾\";}#sk-container-id-1 div.sk-estimator input.sk-toggleable__control:checked~label.sk-toggleable__label {background-color: #d4ebff;}#sk-container-id-1 div.sk-label input.sk-toggleable__control:checked~label.sk-toggleable__label {background-color: #d4ebff;}#sk-container-id-1 input.sk-hidden--visually {border: 0;clip: rect(1px 1px 1px 1px);clip: rect(1px, 1px, 1px, 1px);height: 1px;margin: -1px;overflow: hidden;padding: 0;position: absolute;width: 1px;}#sk-container-id-1 div.sk-estimator {font-family: monospace;background-color: #f0f8ff;border: 1px dotted black;border-radius: 0.25em;box-sizing: border-box;margin-bottom: 0.5em;}#sk-container-id-1 div.sk-estimator:hover {background-color: #d4ebff;}#sk-container-id-1 div.sk-parallel-item::after {content: \"\";width: 100%;border-bottom: 1px solid gray;flex-grow: 1;}#sk-container-id-1 div.sk-label:hover label.sk-toggleable__label {background-color: #d4ebff;}#sk-container-id-1 div.sk-serial::before {content: \"\";position: absolute;border-left: 1px solid gray;box-sizing: border-box;top: 0;bottom: 0;left: 50%;z-index: 0;}#sk-container-id-1 div.sk-serial {display: flex;flex-direction: column;align-items: center;background-color: white;padding-right: 0.2em;padding-left: 0.2em;position: relative;}#sk-container-id-1 div.sk-item {position: relative;z-index: 1;}#sk-container-id-1 div.sk-parallel {display: flex;align-items: stretch;justify-content: center;background-color: white;position: relative;}#sk-container-id-1 div.sk-item::before, #sk-container-id-1 div.sk-parallel-item::before {content: \"\";position: absolute;border-left: 1px solid gray;box-sizing: border-box;top: 0;bottom: 0;left: 50%;z-index: -1;}#sk-container-id-1 div.sk-parallel-item {display: flex;flex-direction: column;z-index: 1;position: relative;background-color: white;}#sk-container-id-1 div.sk-parallel-item:first-child::after {align-self: flex-end;width: 50%;}#sk-container-id-1 div.sk-parallel-item:last-child::after {align-self: flex-start;width: 50%;}#sk-container-id-1 div.sk-parallel-item:only-child::after {width: 0;}#sk-container-id-1 div.sk-dashed-wrapped {border: 1px dashed gray;margin: 0 0.4em 0.5em 0.4em;box-sizing: border-box;padding-bottom: 0.4em;background-color: white;}#sk-container-id-1 div.sk-label label {font-family: monospace;font-weight: bold;display: inline-block;line-height: 1.2em;}#sk-container-id-1 div.sk-label-container {text-align: center;}#sk-container-id-1 div.sk-container {/* jupyter's `normalize.less` sets `[hidden] { display: none; }` but bootstrap.min.css set `[hidden] { display: none !important; }` so we also need the `!important` here to be able to override the default hidden behavior on the sphinx rendered scikit-learn.org. See: https://github.com/scikit-learn/scikit-learn/issues/21755 */display: inline-block !important;position: relative;}#sk-container-id-1 div.sk-text-repr-fallback {display: none;}</style><div id=\"sk-container-id-1\" class=\"sk-top-container\"><div class=\"sk-text-repr-fallback\"><pre>LinearRegression()</pre><b>In a Jupyter environment, please rerun this cell to show the HTML representation or trust the notebook. <br />On GitHub, the HTML representation is unable to render, please try loading this page with nbviewer.org.</b></div><div class=\"sk-container\" hidden><div class=\"sk-item\"><div class=\"sk-estimator sk-toggleable\"><input class=\"sk-toggleable__control sk-hidden--visually\" id=\"sk-estimator-id-1\" type=\"checkbox\" checked><label for=\"sk-estimator-id-1\" class=\"sk-toggleable__label sk-toggleable__label-arrow\">LinearRegression</label><div class=\"sk-toggleable__content\"><pre>LinearRegression()</pre></div></div></div></div></div>"
            ]
          },
          "metadata": {},
          "execution_count": 12
        }
      ]
    },
    {
      "cell_type": "markdown",
      "source": [
        "- Градиентный бустинг"
      ],
      "metadata": {
        "id": "_Fx8ze7_qH_M"
      }
    },
    {
      "cell_type": "code",
      "source": [
        "# Градиентный бустинг (регрессия)\n",
        "gb_reg = GradientBoostingRegressor()\n",
        "gb_reg.fit(X_train, y_train)"
      ],
      "metadata": {
        "colab": {
          "base_uri": "https://localhost:8080/",
          "height": 75
        },
        "id": "rxYiXApXqK0l",
        "outputId": "cdfca0cf-0dd3-498d-ee49-9f6e6b03d527"
      },
      "execution_count": 13,
      "outputs": [
        {
          "output_type": "execute_result",
          "data": {
            "text/plain": [
              "GradientBoostingRegressor()"
            ],
            "text/html": [
              "<style>#sk-container-id-2 {color: black;background-color: white;}#sk-container-id-2 pre{padding: 0;}#sk-container-id-2 div.sk-toggleable {background-color: white;}#sk-container-id-2 label.sk-toggleable__label {cursor: pointer;display: block;width: 100%;margin-bottom: 0;padding: 0.3em;box-sizing: border-box;text-align: center;}#sk-container-id-2 label.sk-toggleable__label-arrow:before {content: \"▸\";float: left;margin-right: 0.25em;color: #696969;}#sk-container-id-2 label.sk-toggleable__label-arrow:hover:before {color: black;}#sk-container-id-2 div.sk-estimator:hover label.sk-toggleable__label-arrow:before {color: black;}#sk-container-id-2 div.sk-toggleable__content {max-height: 0;max-width: 0;overflow: hidden;text-align: left;background-color: #f0f8ff;}#sk-container-id-2 div.sk-toggleable__content pre {margin: 0.2em;color: black;border-radius: 0.25em;background-color: #f0f8ff;}#sk-container-id-2 input.sk-toggleable__control:checked~div.sk-toggleable__content {max-height: 200px;max-width: 100%;overflow: auto;}#sk-container-id-2 input.sk-toggleable__control:checked~label.sk-toggleable__label-arrow:before {content: \"▾\";}#sk-container-id-2 div.sk-estimator input.sk-toggleable__control:checked~label.sk-toggleable__label {background-color: #d4ebff;}#sk-container-id-2 div.sk-label input.sk-toggleable__control:checked~label.sk-toggleable__label {background-color: #d4ebff;}#sk-container-id-2 input.sk-hidden--visually {border: 0;clip: rect(1px 1px 1px 1px);clip: rect(1px, 1px, 1px, 1px);height: 1px;margin: -1px;overflow: hidden;padding: 0;position: absolute;width: 1px;}#sk-container-id-2 div.sk-estimator {font-family: monospace;background-color: #f0f8ff;border: 1px dotted black;border-radius: 0.25em;box-sizing: border-box;margin-bottom: 0.5em;}#sk-container-id-2 div.sk-estimator:hover {background-color: #d4ebff;}#sk-container-id-2 div.sk-parallel-item::after {content: \"\";width: 100%;border-bottom: 1px solid gray;flex-grow: 1;}#sk-container-id-2 div.sk-label:hover label.sk-toggleable__label {background-color: #d4ebff;}#sk-container-id-2 div.sk-serial::before {content: \"\";position: absolute;border-left: 1px solid gray;box-sizing: border-box;top: 0;bottom: 0;left: 50%;z-index: 0;}#sk-container-id-2 div.sk-serial {display: flex;flex-direction: column;align-items: center;background-color: white;padding-right: 0.2em;padding-left: 0.2em;position: relative;}#sk-container-id-2 div.sk-item {position: relative;z-index: 1;}#sk-container-id-2 div.sk-parallel {display: flex;align-items: stretch;justify-content: center;background-color: white;position: relative;}#sk-container-id-2 div.sk-item::before, #sk-container-id-2 div.sk-parallel-item::before {content: \"\";position: absolute;border-left: 1px solid gray;box-sizing: border-box;top: 0;bottom: 0;left: 50%;z-index: -1;}#sk-container-id-2 div.sk-parallel-item {display: flex;flex-direction: column;z-index: 1;position: relative;background-color: white;}#sk-container-id-2 div.sk-parallel-item:first-child::after {align-self: flex-end;width: 50%;}#sk-container-id-2 div.sk-parallel-item:last-child::after {align-self: flex-start;width: 50%;}#sk-container-id-2 div.sk-parallel-item:only-child::after {width: 0;}#sk-container-id-2 div.sk-dashed-wrapped {border: 1px dashed gray;margin: 0 0.4em 0.5em 0.4em;box-sizing: border-box;padding-bottom: 0.4em;background-color: white;}#sk-container-id-2 div.sk-label label {font-family: monospace;font-weight: bold;display: inline-block;line-height: 1.2em;}#sk-container-id-2 div.sk-label-container {text-align: center;}#sk-container-id-2 div.sk-container {/* jupyter's `normalize.less` sets `[hidden] { display: none; }` but bootstrap.min.css set `[hidden] { display: none !important; }` so we also need the `!important` here to be able to override the default hidden behavior on the sphinx rendered scikit-learn.org. See: https://github.com/scikit-learn/scikit-learn/issues/21755 */display: inline-block !important;position: relative;}#sk-container-id-2 div.sk-text-repr-fallback {display: none;}</style><div id=\"sk-container-id-2\" class=\"sk-top-container\"><div class=\"sk-text-repr-fallback\"><pre>GradientBoostingRegressor()</pre><b>In a Jupyter environment, please rerun this cell to show the HTML representation or trust the notebook. <br />On GitHub, the HTML representation is unable to render, please try loading this page with nbviewer.org.</b></div><div class=\"sk-container\" hidden><div class=\"sk-item\"><div class=\"sk-estimator sk-toggleable\"><input class=\"sk-toggleable__control sk-hidden--visually\" id=\"sk-estimator-id-2\" type=\"checkbox\" checked><label for=\"sk-estimator-id-2\" class=\"sk-toggleable__label sk-toggleable__label-arrow\">GradientBoostingRegressor</label><div class=\"sk-toggleable__content\"><pre>GradientBoostingRegressor()</pre></div></div></div></div></div>"
            ]
          },
          "metadata": {},
          "execution_count": 13
        }
      ]
    },
    {
      "cell_type": "markdown",
      "source": [
        "###Оценка моделей"
      ],
      "metadata": {
        "id": "2zNW0M0eqajT"
      }
    },
    {
      "cell_type": "code",
      "source": [
        "# Оценка моделей\n",
        "\n",
        "# Метрики качества:\n",
        "# - Среднеквадратичная ошибка (RMSE)\n",
        "# - R-квадрат (R²)\n",
        "\n",
        "# Линейная регрессия\n",
        "y_pred_linear = linear_reg.predict(X_test)\n",
        "rmse_linear = np.sqrt(mean_squared_error(y_test, y_pred_linear))\n",
        "r2_linear = r2_score(y_test, y_pred_linear)\n",
        "\n",
        "# Градиентный бустинг (регрессия)\n",
        "y_pred_gb = gb_reg.predict(X_test)\n",
        "rmse_gb = np.sqrt(mean_squared_error(y_test, y_pred_gb))\n",
        "r2_gb = r2_score(y_test, y_pred_gb)\n",
        "\n",
        "# Вывод\n",
        "print(\"Линейная регрессия:\")\n",
        "print(f\"RMSE: {rmse_linear}\")\n",
        "print(f\"R^2: {r2_linear}\")\n",
        "\n",
        "print(\"\\nГрадиентный бустинг (регрессия):\")\n",
        "print(f\"RMSE: {rmse_gb}\")\n",
        "print(f\"R^2: {r2_gb}\")\n"
      ],
      "metadata": {
        "colab": {
          "base_uri": "https://localhost:8080/"
        },
        "id": "mQPLDZATqcnc",
        "outputId": "eaf9bc1d-2e8d-4f72-89b8-4ab2c8415934"
      },
      "execution_count": 14,
      "outputs": [
        {
          "output_type": "stream",
          "name": "stdout",
          "text": [
            "Линейная регрессия:\n",
            "RMSE: 76.30117122437271\n",
            "R^2: 0.8166000107992691\n",
            "\n",
            "Градиентный бустинг (регрессия):\n",
            "RMSE: 92.74688554061218\n",
            "R^2: 0.7290210431731733\n"
          ]
        }
      ]
    },
    {
      "cell_type": "markdown",
      "source": [
        "Я использовал метрики RMSE (Среднеквадратичная ошибка) и R² (коэффициент детерминации) для оценки качества моделей по следующим причинам:\n",
        "1. RMSE является прямой мерой качества предсказаний, показывая среднюю разницу между фактическими и прогнозируемыми значениями в тех же единицах измерения, что и сами значения. Это делает интерпретацию ошибки более интуитивно понятной и в большей степени наглядной для не специалистов.\n",
        "2. R² (коэффициент детерминации) отображает долю дисперсии зависимой переменной, которая объясняется моделью. Эта метрика позволяет понять, насколько хорошо модель объясняет изменчивость данных, предоставляя относительное представление о качестве модели.\n",
        "\n",
        "Эти метрики используются, потому что они дополняют друг друга: RMSE предоставляет информацию о точности предсказаний в абсолютных величинах, а R² помогает оценить объяснительную мощность модели."
      ],
      "metadata": {
        "id": "ATR0yNDhriFb"
      }
    },
    {
      "cell_type": "markdown",
      "source": [
        "###Вывод\n",
        "Линейная регрессия имеет более низкий RMSE и более высокий R^2, чем градиентный бустинг, что говорит о том, что линейная регрессия является более точной моделью для предсказания арендной платы за дом в этом наборе данных."
      ],
      "metadata": {
        "id": "j6eoQ8OUq5Do"
      }
    }
  ]
}