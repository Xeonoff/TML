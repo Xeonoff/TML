{
  "nbformat": 4,
  "nbformat_minor": 0,
  "metadata": {
    "colab": {
      "provenance": []
    },
    "kernelspec": {
      "name": "python3",
      "display_name": "Python 3"
    },
    "language_info": {
      "name": "python"
    }
  },
  "cells": [
    {
      "cell_type": "code",
      "execution_count": null,
      "metadata": {
        "id": "NG6ANLy2n3pk"
      },
      "outputs": [],
      "source": [
        "import pandas as pd\n",
        "import matplotlib.pyplot as plt\n",
        "import seaborn as sns\n",
        "import numpy as np\n",
        "\n",
        "try:\n",
        "    df = pd.read_csv(\"Bitcoin Historical Data2.csv\", sep=\",\", encoding='utf-8')\n",
        "except UnicodeDecodeError:\n",
        "    df = pd.read_csv(\"Bitcoin Historical Data2.csv\", sep=\",\", encoding='latin1')\n",
        "\n",
        "for column in df.columns:\n",
        "    df[column] = df[column].str.replace(',', '')\n",
        "for column in df.columns:\n",
        "    df[column] = df[column].str.replace('%', '')\n",
        "for column in df.columns:\n",
        "    df[column] = df[column].str.replace('/', '-')\n",
        "df['Vol.'] = df['Vol.'].str.replace('K', 'e3')\n",
        "df['Vol.'] = df['Vol.'].str.replace('M', 'e6')\n",
        "df['Vol.'] = df['Vol.'].str.replace('B', 'e9')\n",
        "for column in df.columns:\n",
        "  if column != 'Date':\n",
        "    df[column] = df[column].astype(float)"
      ]
    },
    {
      "cell_type": "code",
      "source": [
        "print(df.head(1))"
      ],
      "metadata": {
        "colab": {
          "base_uri": "https://localhost:8080/"
        },
        "id": "tSDVhLQEpAM0",
        "outputId": "47b3ff69-b0ca-4a65-aa33-9f4817d3d9c9"
      },
      "execution_count": null,
      "outputs": [
        {
          "output_type": "stream",
          "name": "stdout",
          "text": [
            "         Date    Price     Open     High      Low     Vol.  Change %\n",
            "0  03-02-2024  61994.5  62397.7  62446.3  61621.9  33800.0     -0.65\n"
          ]
        }
      ]
    },
    {
      "cell_type": "code",
      "source": [
        "from sklearn.model_selection import train_test_split, GridSearchCV, RandomizedSearchCV, cross_val_score, KFold, ShuffleSplit\n",
        "from sklearn.neighbors import KNeighborsRegressor\n",
        "from sklearn.metrics import mean_squared_error\n",
        "from numpy import sqrt\n",
        "from sklearn.preprocessing import StandardScaler\n",
        "from scipy.stats import randint\n",
        "\n",
        "df = df.dropna()\n",
        "\n",
        "df['Date'] = pd.to_datetime(df['Date'])\n",
        "df.set_index('Date', inplace=True)\n",
        "\n",
        "X = df.drop(['Price'], axis=1)\n",
        "y = df['Price']\n",
        "\n",
        "X_train, X_test, y_train, y_test = train_test_split(X, y, test_size=0.2, random_state=42)\n",
        "\n",
        "scaler = StandardScaler()\n",
        "X_train_scaled = scaler.fit_transform(X_train)\n",
        "X_test_scaled = scaler.transform(X_test)"
      ],
      "metadata": {
        "colab": {
          "base_uri": "https://localhost:8080/"
        },
        "id": "6cjbyUKnp_Yi",
        "outputId": "77cfdccd-379d-41ec-cc60-36a177d6236a"
      },
      "execution_count": null,
      "outputs": [
        {
          "output_type": "stream",
          "name": "stderr",
          "text": [
            "<ipython-input-65-7ddc3ef4bc17>:10: SettingWithCopyWarning: \n",
            "A value is trying to be set on a copy of a slice from a DataFrame.\n",
            "Try using .loc[row_indexer,col_indexer] = value instead\n",
            "\n",
            "See the caveats in the documentation: https://pandas.pydata.org/pandas-docs/stable/user_guide/indexing.html#returning-a-view-versus-a-copy\n",
            "  df['Date'] = pd.to_datetime(df['Date'])\n"
          ]
        }
      ]
    },
    {
      "cell_type": "code",
      "source": [
        "\n",
        "k = 5\n",
        "knn = KNeighborsRegressor(n_neighbors=k)\n",
        "knn.fit(X_train_scaled, y_train)\n",
        "y_pred = knn.predict(X_test_scaled)\n",
        "\n",
        "mse = mean_squared_error(y_test, y_pred)\n",
        "print(f\"Mean Squared Error для K={k}: \", mse)"
      ],
      "metadata": {
        "colab": {
          "base_uri": "https://localhost:8080/"
        },
        "id": "nmVgm--Gy1sY",
        "outputId": "cc72cce6-40a6-49a5-9c33-cfff1c37b407"
      },
      "execution_count": null,
      "outputs": [
        {
          "output_type": "stream",
          "name": "stdout",
          "text": [
            "Mean Squared Error для K=5:  182785.01186572865\n"
          ]
        }
      ]
    },
    {
      "cell_type": "code",
      "source": [
        "param_grid = {'n_neighbors': np.arange(1, 31)}\n",
        "grid_search = GridSearchCV(KNeighborsRegressor(), param_grid, cv=5, scoring='neg_mean_squared_error')\n",
        "grid_search.fit(X_train_scaled, y_train)\n",
        "print(\"Лучший параметр K с GridSearchCV: \", grid_search.best_params_)\n",
        "\n",
        "random_search = RandomizedSearchCV(KNeighborsRegressor(), param_distributions=param_grid, n_iter=10, cv=5, scoring='neg_mean_squared_error', random_state=42)\n",
        "random_search.fit(X_train_scaled, y_train)\n",
        "print(\"Лучший параметр K с RandomizedSearchCV: \", random_search.best_params_)"
      ],
      "metadata": {
        "colab": {
          "base_uri": "https://localhost:8080/"
        },
        "id": "DSyOXMVMz1GR",
        "outputId": "c49b51e0-da9c-4ba9-dbc6-276a3f19bae2"
      },
      "execution_count": null,
      "outputs": [
        {
          "output_type": "stream",
          "name": "stdout",
          "text": [
            "Лучший параметр K с GridSearchCV:  {'n_neighbors': 2}\n",
            "Лучший параметр K с RandomizedSearchCV:  {'n_neighbors': 1}\n"
          ]
        }
      ]
    },
    {
      "cell_type": "code",
      "source": [
        "best_k = grid_search.best_estimator_\n",
        "y_pred_optimal = best_k.predict(X_test_scaled)\n",
        "\n",
        "mse_optimal = mean_squared_error(y_test, y_pred_optimal)\n",
        "print(f\"Mean Squared Error для оптимального K: \", mse_optimal)"
      ],
      "metadata": {
        "colab": {
          "base_uri": "https://localhost:8080/"
        },
        "id": "pgODhh7N0qDv",
        "outputId": "8e833a95-3d26-4f5d-b491-2bb471676357"
      },
      "execution_count": null,
      "outputs": [
        {
          "output_type": "stream",
          "name": "stdout",
          "text": [
            "Mean Squared Error для оптимального K:  156540.58844723616\n"
          ]
        }
      ]
    },
    {
      "cell_type": "code",
      "source": [
        "print(f\"Исходный MSE: {mse}, оптимальный MSE: {mse_optimal}\")"
      ],
      "metadata": {
        "colab": {
          "base_uri": "https://localhost:8080/"
        },
        "id": "U6kFf4Vw0wlO",
        "outputId": "256a90a8-011b-4a65-d534-48a52a5772cb"
      },
      "execution_count": null,
      "outputs": [
        {
          "output_type": "stream",
          "name": "stdout",
          "text": [
            "Исходный MSE: 182785.01186572865, оптимальный MSE: 156540.58844723616\n"
          ]
        }
      ]
    }
  ]
}